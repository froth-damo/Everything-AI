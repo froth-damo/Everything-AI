{
 "cells": [
  {
   "cell_type": "markdown",
   "metadata": {},
   "source": [
    "# Notebook for Converting Sentences to Suggested ESCU Contents"
   ]
  },
  {
   "cell_type": "markdown",
   "metadata": {},
   "source": [
    "## Stage 0 - import libraries\n",
    "At stage 0 we define all imports necessary to run our subsequent code depending on various libraries."
   ]
  },
  {
   "cell_type": "code",
   "execution_count": 1,
   "metadata": {},
   "outputs": [
    {
     "name": "stdout",
     "output_type": "stream",
     "text": [
      "Defaulting to user installation because normal site-packages is not writeable\n",
      "Collecting sentence_transformers\n",
      "  Downloading sentence_transformers-4.1.0-py3-none-any.whl (345 kB)\n",
      "\u001b[2K     \u001b[90m━━━━━━━━━━━━━━━━━━━━━━━━━━━━━━━━━━━━━━\u001b[0m \u001b[32m345.7/345.7 kB\u001b[0m \u001b[31m31.3 MB/s\u001b[0m eta \u001b[36m0:00:00\u001b[0m\n",
      "\u001b[?25hRequirement already satisfied: huggingface-hub>=0.20.0 in /usr/local/lib/python3.9/site-packages (from sentence_transformers) (0.23.5)\n",
      "Requirement already satisfied: scipy in /usr/local/lib/python3.9/site-packages (from sentence_transformers) (1.11.4)\n",
      "Requirement already satisfied: transformers<5.0.0,>=4.41.0 in /usr/local/lib/python3.9/site-packages (from sentence_transformers) (4.42.4)\n",
      "Requirement already satisfied: scikit-learn in /usr/local/lib/python3.9/site-packages (from sentence_transformers) (1.5.1)\n",
      "Requirement already satisfied: torch>=1.11.0 in /usr/local/lib/python3.9/site-packages (from sentence_transformers) (2.3.1+cpu)\n",
      "Requirement already satisfied: Pillow in /usr/local/lib/python3.9/site-packages (from sentence_transformers) (10.4.0)\n",
      "Requirement already satisfied: tqdm in /usr/local/lib/python3.9/site-packages (from sentence_transformers) (4.66.4)\n",
      "Requirement already satisfied: typing_extensions>=4.5.0 in /usr/local/lib/python3.9/site-packages (from sentence_transformers) (4.12.2)\n",
      "Requirement already satisfied: packaging>=20.9 in /usr/local/lib/python3.9/site-packages (from huggingface-hub>=0.20.0->sentence_transformers) (24.1)\n",
      "Requirement already satisfied: filelock in /usr/local/lib/python3.9/site-packages (from huggingface-hub>=0.20.0->sentence_transformers) (3.15.4)\n",
      "Requirement already satisfied: requests in /usr/local/lib/python3.9/site-packages (from huggingface-hub>=0.20.0->sentence_transformers) (2.32.3)\n",
      "Requirement already satisfied: fsspec>=2023.5.0 in /usr/local/lib/python3.9/site-packages (from huggingface-hub>=0.20.0->sentence_transformers) (2024.6.1)\n",
      "Requirement already satisfied: pyyaml>=5.1 in /usr/local/lib/python3.9/site-packages (from huggingface-hub>=0.20.0->sentence_transformers) (6.0.1)\n",
      "Requirement already satisfied: sympy in /usr/local/lib/python3.9/site-packages (from torch>=1.11.0->sentence_transformers) (1.13.0)\n",
      "Requirement already satisfied: jinja2 in /usr/local/lib/python3.9/site-packages (from torch>=1.11.0->sentence_transformers) (3.1.4)\n",
      "Requirement already satisfied: networkx in /usr/local/lib/python3.9/site-packages (from torch>=1.11.0->sentence_transformers) (3.2.1)\n",
      "Requirement already satisfied: numpy<2.0,>=1.17 in /usr/local/lib/python3.9/site-packages (from transformers<5.0.0,>=4.41.0->sentence_transformers) (1.22.1)\n",
      "Requirement already satisfied: regex!=2019.12.17 in /usr/local/lib/python3.9/site-packages (from transformers<5.0.0,>=4.41.0->sentence_transformers) (2024.5.15)\n",
      "Requirement already satisfied: safetensors>=0.4.1 in /usr/local/lib/python3.9/site-packages (from transformers<5.0.0,>=4.41.0->sentence_transformers) (0.4.3)\n",
      "Requirement already satisfied: tokenizers<0.20,>=0.19 in /usr/local/lib/python3.9/site-packages (from transformers<5.0.0,>=4.41.0->sentence_transformers) (0.19.1)\n",
      "Requirement already satisfied: joblib>=1.2.0 in /usr/local/lib/python3.9/site-packages (from scikit-learn->sentence_transformers) (1.4.2)\n",
      "Requirement already satisfied: threadpoolctl>=3.1.0 in /usr/local/lib/python3.9/site-packages (from scikit-learn->sentence_transformers) (3.5.0)\n",
      "Requirement already satisfied: MarkupSafe>=2.0 in /usr/local/lib/python3.9/site-packages (from jinja2->torch>=1.11.0->sentence_transformers) (2.1.5)\n",
      "Requirement already satisfied: certifi>=2017.4.17 in /usr/local/lib/python3.9/site-packages (from requests->huggingface-hub>=0.20.0->sentence_transformers) (2024.7.4)\n",
      "Requirement already satisfied: idna<4,>=2.5 in /usr/local/lib/python3.9/site-packages (from requests->huggingface-hub>=0.20.0->sentence_transformers) (3.7)\n",
      "Requirement already satisfied: urllib3<3,>=1.21.1 in /usr/local/lib/python3.9/site-packages (from requests->huggingface-hub>=0.20.0->sentence_transformers) (2.2.2)\n",
      "Requirement already satisfied: charset-normalizer<4,>=2 in /usr/local/lib/python3.9/site-packages (from requests->huggingface-hub>=0.20.0->sentence_transformers) (3.3.2)\n",
      "Requirement already satisfied: mpmath<1.4,>=1.1.0 in /usr/local/lib/python3.9/site-packages (from sympy->torch>=1.11.0->sentence_transformers) (1.3.0)\n",
      "Installing collected packages: sentence_transformers\n",
      "Successfully installed sentence_transformers-4.1.0\n",
      "\n",
      "\u001b[1m[\u001b[0m\u001b[34;49mnotice\u001b[0m\u001b[1;39;49m]\u001b[0m\u001b[39;49m A new release of pip is available: \u001b[0m\u001b[31;49m23.0.1\u001b[0m\u001b[39;49m -> \u001b[0m\u001b[32;49m25.1.1\u001b[0m\n",
      "\u001b[1m[\u001b[0m\u001b[34;49mnotice\u001b[0m\u001b[1;39;49m]\u001b[0m\u001b[39;49m To update, run: \u001b[0m\u001b[32;49mpip install --upgrade pip\u001b[0m\n"
     ]
    }
   ],
   "source": [
    "!pip install sentence_transformers"
   ]
  },
  {
   "cell_type": "code",
   "execution_count": 2,
   "metadata": {},
   "outputs": [
    {
     "name": "stdout",
     "output_type": "stream",
     "text": [
      "Defaulting to user installation because normal site-packages is not writeable\n",
      "\u001b[33mDEPRECATION: https://github.com/explosion/spacy-models/releases/download/en_core_web_md-2.3.1/en_core_web_md-2.3.1.tar.gz#egg=en_core_web_md==2.3.1 contains an egg fragment with a non-PEP 508 name pip 25.0 will enforce this behaviour change. A possible replacement is to use the req @ url syntax, and remove the egg fragment. Discussion can be found at https://github.com/pypa/pip/issues/11617\u001b[0m\u001b[33m\n",
      "\u001b[0mCollecting en_core_web_md==2.3.1\n",
      "  Downloading https://github.com/explosion/spacy-models/releases/download/en_core_web_md-2.3.1/en_core_web_md-2.3.1.tar.gz (50.8 MB)\n",
      "\u001b[2K     \u001b[90m━━━━━━━━━━━━━━━━━━━━━━━━━━━━━━━━━━━━━━━━\u001b[0m \u001b[32m50.8/50.8 MB\u001b[0m \u001b[31m39.1 MB/s\u001b[0m eta \u001b[36m0:00:00\u001b[0ma \u001b[36m0:00:01\u001b[0m\n",
      "\u001b[?25h  Preparing metadata (setup.py) ... \u001b[?25ldone\n",
      "\u001b[?25hRequirement already satisfied: spacy<2.4.0,>=2.3.0 in /usr/local/lib/python3.9/site-packages (from en_core_web_md==2.3.1) (2.3.2)\n",
      "Requirement already satisfied: cymem<2.1.0,>=2.0.2 in /usr/local/lib/python3.9/site-packages (from spacy<2.4.0,>=2.3.0->en_core_web_md==2.3.1) (2.0.8)\n",
      "Requirement already satisfied: blis<0.5.0,>=0.4.0 in /usr/local/lib/python3.9/site-packages (from spacy<2.4.0,>=2.3.0->en_core_web_md==2.3.1) (0.4.1)\n",
      "Requirement already satisfied: tqdm<5.0.0,>=4.38.0 in /usr/local/lib/python3.9/site-packages (from spacy<2.4.0,>=2.3.0->en_core_web_md==2.3.1) (4.66.4)\n",
      "Requirement already satisfied: preshed<3.1.0,>=3.0.2 in /usr/local/lib/python3.9/site-packages (from spacy<2.4.0,>=2.3.0->en_core_web_md==2.3.1) (3.0.9)\n",
      "Requirement already satisfied: catalogue<1.1.0,>=0.0.7 in /usr/local/lib/python3.9/site-packages (from spacy<2.4.0,>=2.3.0->en_core_web_md==2.3.1) (1.0.2)\n",
      "Requirement already satisfied: plac<1.2.0,>=0.9.6 in /usr/local/lib/python3.9/site-packages (from spacy<2.4.0,>=2.3.0->en_core_web_md==2.3.1) (1.1.3)\n",
      "Requirement already satisfied: murmurhash<1.1.0,>=0.28.0 in /usr/local/lib/python3.9/site-packages (from spacy<2.4.0,>=2.3.0->en_core_web_md==2.3.1) (1.0.10)\n",
      "Requirement already satisfied: numpy>=1.15.0 in /usr/local/lib/python3.9/site-packages (from spacy<2.4.0,>=2.3.0->en_core_web_md==2.3.1) (1.22.1)\n",
      "Requirement already satisfied: setuptools in /usr/local/lib/python3.9/site-packages (from spacy<2.4.0,>=2.3.0->en_core_web_md==2.3.1) (70.3.0)\n",
      "Requirement already satisfied: thinc==7.4.1 in /usr/local/lib/python3.9/site-packages (from spacy<2.4.0,>=2.3.0->en_core_web_md==2.3.1) (7.4.1)\n",
      "Requirement already satisfied: wasabi<1.1.0,>=0.4.0 in /usr/local/lib/python3.9/site-packages (from spacy<2.4.0,>=2.3.0->en_core_web_md==2.3.1) (0.10.1)\n",
      "Requirement already satisfied: requests<3.0.0,>=2.13.0 in /usr/local/lib/python3.9/site-packages (from spacy<2.4.0,>=2.3.0->en_core_web_md==2.3.1) (2.32.3)\n",
      "Requirement already satisfied: srsly<1.1.0,>=1.0.2 in /usr/local/lib/python3.9/site-packages (from spacy<2.4.0,>=2.3.0->en_core_web_md==2.3.1) (1.0.7)\n",
      "Requirement already satisfied: certifi>=2017.4.17 in /usr/local/lib/python3.9/site-packages (from requests<3.0.0,>=2.13.0->spacy<2.4.0,>=2.3.0->en_core_web_md==2.3.1) (2024.7.4)\n",
      "Requirement already satisfied: charset-normalizer<4,>=2 in /usr/local/lib/python3.9/site-packages (from requests<3.0.0,>=2.13.0->spacy<2.4.0,>=2.3.0->en_core_web_md==2.3.1) (3.3.2)\n",
      "Requirement already satisfied: urllib3<3,>=1.21.1 in /usr/local/lib/python3.9/site-packages (from requests<3.0.0,>=2.13.0->spacy<2.4.0,>=2.3.0->en_core_web_md==2.3.1) (2.2.2)\n",
      "Requirement already satisfied: idna<4,>=2.5 in /usr/local/lib/python3.9/site-packages (from requests<3.0.0,>=2.13.0->spacy<2.4.0,>=2.3.0->en_core_web_md==2.3.1) (3.7)\n",
      "Building wheels for collected packages: en_core_web_md\n",
      "  Building wheel for en_core_web_md (setup.py) ... \u001b[?25ldone\n",
      "\u001b[?25h  Created wheel for en_core_web_md: filename=en_core_web_md-2.3.1-py3-none-any.whl size=50916621 sha256=5607250ab4d43a6b24de62df455929256a17a80a4260f820e964004054f51552\n",
      "  Stored in directory: /tmp/pip-ephem-wheel-cache-p1wch9eh/wheels/6f/37/40/51e4a94540f45642e010988c7e8a88e8e95c0364a9e4d0b672\n",
      "Successfully built en_core_web_md\n",
      "Installing collected packages: en_core_web_md\n",
      "Successfully installed en_core_web_md-2.3.1\n",
      "\n",
      "\u001b[1m[\u001b[0m\u001b[34;49mnotice\u001b[0m\u001b[1;39;49m]\u001b[0m\u001b[39;49m A new release of pip is available: \u001b[0m\u001b[31;49m23.0.1\u001b[0m\u001b[39;49m -> \u001b[0m\u001b[32;49m25.1.1\u001b[0m\n",
      "\u001b[1m[\u001b[0m\u001b[34;49mnotice\u001b[0m\u001b[1;39;49m]\u001b[0m\u001b[39;49m To update, run: \u001b[0m\u001b[32;49mpip install --upgrade pip\u001b[0m\n",
      "\u001b[38;5;2m✔ Download and installation successful\u001b[0m\n",
      "You can now load the model via spacy.load('en_core_web_md')\n",
      "Defaulting to user installation because normal site-packages is not writeable\n",
      "\u001b[33mDEPRECATION: https://github.com/explosion/spacy-models/releases/download/en_core_web_sm-2.3.1/en_core_web_sm-2.3.1.tar.gz#egg=en_core_web_sm==2.3.1 contains an egg fragment with a non-PEP 508 name pip 25.0 will enforce this behaviour change. A possible replacement is to use the req @ url syntax, and remove the egg fragment. Discussion can be found at https://github.com/pypa/pip/issues/11617\u001b[0m\u001b[33m\n",
      "\u001b[0mCollecting en_core_web_sm==2.3.1\n",
      "  Downloading https://github.com/explosion/spacy-models/releases/download/en_core_web_sm-2.3.1/en_core_web_sm-2.3.1.tar.gz (12.0 MB)\n",
      "\u001b[2K     \u001b[90m━━━━━━━━━━━━━━━━━━━━━━━━━━━━━━━━━━━━━━━━\u001b[0m \u001b[32m12.0/12.0 MB\u001b[0m \u001b[31m37.2 MB/s\u001b[0m eta \u001b[36m0:00:00\u001b[0ma \u001b[36m0:00:01\u001b[0m\n",
      "\u001b[?25h  Preparing metadata (setup.py) ... \u001b[?25ldone\n",
      "\u001b[?25hRequirement already satisfied: spacy<2.4.0,>=2.3.0 in /usr/local/lib/python3.9/site-packages (from en_core_web_sm==2.3.1) (2.3.2)\n",
      "Requirement already satisfied: plac<1.2.0,>=0.9.6 in /usr/local/lib/python3.9/site-packages (from spacy<2.4.0,>=2.3.0->en_core_web_sm==2.3.1) (1.1.3)\n",
      "Requirement already satisfied: thinc==7.4.1 in /usr/local/lib/python3.9/site-packages (from spacy<2.4.0,>=2.3.0->en_core_web_sm==2.3.1) (7.4.1)\n",
      "Requirement already satisfied: srsly<1.1.0,>=1.0.2 in /usr/local/lib/python3.9/site-packages (from spacy<2.4.0,>=2.3.0->en_core_web_sm==2.3.1) (1.0.7)\n",
      "Requirement already satisfied: tqdm<5.0.0,>=4.38.0 in /usr/local/lib/python3.9/site-packages (from spacy<2.4.0,>=2.3.0->en_core_web_sm==2.3.1) (4.66.4)\n",
      "Requirement already satisfied: blis<0.5.0,>=0.4.0 in /usr/local/lib/python3.9/site-packages (from spacy<2.4.0,>=2.3.0->en_core_web_sm==2.3.1) (0.4.1)\n",
      "Requirement already satisfied: catalogue<1.1.0,>=0.0.7 in /usr/local/lib/python3.9/site-packages (from spacy<2.4.0,>=2.3.0->en_core_web_sm==2.3.1) (1.0.2)\n",
      "Requirement already satisfied: numpy>=1.15.0 in /usr/local/lib/python3.9/site-packages (from spacy<2.4.0,>=2.3.0->en_core_web_sm==2.3.1) (1.22.1)\n",
      "Requirement already satisfied: preshed<3.1.0,>=3.0.2 in /usr/local/lib/python3.9/site-packages (from spacy<2.4.0,>=2.3.0->en_core_web_sm==2.3.1) (3.0.9)\n",
      "Requirement already satisfied: wasabi<1.1.0,>=0.4.0 in /usr/local/lib/python3.9/site-packages (from spacy<2.4.0,>=2.3.0->en_core_web_sm==2.3.1) (0.10.1)\n",
      "Requirement already satisfied: setuptools in /usr/local/lib/python3.9/site-packages (from spacy<2.4.0,>=2.3.0->en_core_web_sm==2.3.1) (70.3.0)\n",
      "Requirement already satisfied: cymem<2.1.0,>=2.0.2 in /usr/local/lib/python3.9/site-packages (from spacy<2.4.0,>=2.3.0->en_core_web_sm==2.3.1) (2.0.8)\n",
      "Requirement already satisfied: requests<3.0.0,>=2.13.0 in /usr/local/lib/python3.9/site-packages (from spacy<2.4.0,>=2.3.0->en_core_web_sm==2.3.1) (2.32.3)\n",
      "Requirement already satisfied: murmurhash<1.1.0,>=0.28.0 in /usr/local/lib/python3.9/site-packages (from spacy<2.4.0,>=2.3.0->en_core_web_sm==2.3.1) (1.0.10)\n",
      "Requirement already satisfied: urllib3<3,>=1.21.1 in /usr/local/lib/python3.9/site-packages (from requests<3.0.0,>=2.13.0->spacy<2.4.0,>=2.3.0->en_core_web_sm==2.3.1) (2.2.2)\n",
      "Requirement already satisfied: charset-normalizer<4,>=2 in /usr/local/lib/python3.9/site-packages (from requests<3.0.0,>=2.13.0->spacy<2.4.0,>=2.3.0->en_core_web_sm==2.3.1) (3.3.2)\n",
      "Requirement already satisfied: certifi>=2017.4.17 in /usr/local/lib/python3.9/site-packages (from requests<3.0.0,>=2.13.0->spacy<2.4.0,>=2.3.0->en_core_web_sm==2.3.1) (2024.7.4)\n",
      "Requirement already satisfied: idna<4,>=2.5 in /usr/local/lib/python3.9/site-packages (from requests<3.0.0,>=2.13.0->spacy<2.4.0,>=2.3.0->en_core_web_sm==2.3.1) (3.7)\n",
      "Building wheels for collected packages: en_core_web_sm\n",
      "  Building wheel for en_core_web_sm (setup.py) ... \u001b[?25ldone\n",
      "\u001b[?25h  Created wheel for en_core_web_sm: filename=en_core_web_sm-2.3.1-py3-none-any.whl size=12047088 sha256=68428bf142bda71976b23561dcf8a179e2dd41588bfca5b73cdcf9d5253e0851\n",
      "  Stored in directory: /tmp/pip-ephem-wheel-cache-ptck98up/wheels/19/d6/1c/5484b95647df5d7afaf74abde458c66c1cd427e69e801fe826\n",
      "Successfully built en_core_web_sm\n",
      "Installing collected packages: en_core_web_sm\n",
      "Successfully installed en_core_web_sm-2.3.1\n",
      "\n",
      "\u001b[1m[\u001b[0m\u001b[34;49mnotice\u001b[0m\u001b[1;39;49m]\u001b[0m\u001b[39;49m A new release of pip is available: \u001b[0m\u001b[31;49m23.0.1\u001b[0m\u001b[39;49m -> \u001b[0m\u001b[32;49m25.1.1\u001b[0m\n",
      "\u001b[1m[\u001b[0m\u001b[34;49mnotice\u001b[0m\u001b[1;39;49m]\u001b[0m\u001b[39;49m To update, run: \u001b[0m\u001b[32;49mpip install --upgrade pip\u001b[0m\n",
      "\u001b[38;5;2m✔ Download and installation successful\u001b[0m\n",
      "You can now load the model via spacy.load('en_core_web_sm')\n",
      "\u001b[38;5;1m✘ Couldn't link model to 'en'\u001b[0m\n",
      "Creating a symlink in spacy/data failed. Make sure you have the required\n",
      "permissions and try re-running the command as admin, or use a virtualenv. You\n",
      "can still import the model as a module and call its load() method, or create the\n",
      "symlink manually.\n",
      "/dltk/.local/lib/python3.9/site-packages/en_core_web_sm -->\n",
      "/usr/local/lib/python3.9/site-packages/spacy/data/en\n",
      "\u001b[38;5;3m⚠ Download successful but linking failed\u001b[0m\n",
      "Creating a shortcut link for 'en' didn't work (maybe you don't have admin\n",
      "permissions?), but you can still load the model via its full package name: nlp =\n",
      "spacy.load('en_core_web_sm')\n"
     ]
    }
   ],
   "source": [
    "!python -m spacy download en_core_web_md\n",
    "!python -m spacy download en"
   ]
  },
  {
   "cell_type": "code",
   "execution_count": 3,
   "metadata": {
    "deletable": false,
    "name": "mltkc_import"
   },
   "outputs": [
    {
     "name": "stderr",
     "output_type": "stream",
     "text": [
      "2025-05-17 12:22:06.729520: W tensorflow/stream_executor/platform/default/dso_loader.cc:64] Could not load dynamic library 'libcudart.so.11.0'; dlerror: libcudart.so.11.0: cannot open shared object file: No such file or directory\n",
      "2025-05-17 12:22:06.729541: I tensorflow/stream_executor/cuda/cudart_stub.cc:29] Ignore above cudart dlerror if you do not have a GPU set up on your machine.\n"
     ]
    },
    {
     "name": "stdout",
     "output_type": "stream",
     "text": [
      "/srv/notebooks/data/ESCU/ESCU_Dataset.csv\n",
      "/srv/notebooks/data/ESCU/ESCU_DataSource.csv\n",
      "/srv/notebooks/data/ESCU/.ipynb_checkpoints/ESCU_DataSource-checkpoint.csv\n",
      "/srv/notebooks/data/ESCU/.ipynb_checkpoints/ESCU_Dataset-checkpoint.csv\n",
      "SentenceTransformer(\n",
      "  (0): Transformer({'max_seq_length': 256, 'do_lower_case': False}) with Transformer model: BertModel \n",
      "  (1): Pooling({'word_embedding_dimension': 384, 'pooling_mode_cls_token': False, 'pooling_mode_mean_tokens': True, 'pooling_mode_max_tokens': False, 'pooling_mode_mean_sqrt_len_tokens': False, 'pooling_mode_weightedmean_tokens': False, 'pooling_mode_lasttoken': False, 'include_prompt': True})\n",
      "  (2): Normalize()\n",
      ")\n"
     ]
    }
   ],
   "source": [
    "import numpy as np # linear algebra\n",
    "import pandas as pd # data processing, CSV file I/O (e.g. pd.read_csv)\n",
    "import transformers\n",
    "import torch\n",
    "import io\n",
    "import re\n",
    "import requests\n",
    "import pickle\n",
    "import json\n",
    "import spacy\n",
    "\n",
    "\n",
    "from sentence_transformers import SentenceTransformer\n",
    "\n",
    "from sklearn.decomposition import PCA\n",
    "from sklearn.metrics import DistanceMetric\n",
    "\n",
    "import matplotlib.pyplot as plt\n",
    "import matplotlib as mpl\n",
    "\n",
    "#global constants\n",
    "MODEL_DIRECTORY = \"/srv/app/model/data/\"\n",
    "\n",
    "#model = SentenceTransformer('all-MiniLM-L6-V2')\n",
    "#model.save(MODEL_DIRECTORY)\n",
    "model = SentenceTransformer(MODEL_DIRECTORY)\n",
    "\n",
    "# Input data files are available in the read-only \"../input/\" directory\n",
    "# For example, running this (by clicking run or pressing Shift+Enter) will list all files under the input directory\n",
    "\n",
    "pd.set_option('display.max_columns', None)\n",
    "pd.set_option('display.max_rows', None)\n",
    "pd.set_option('display.max_colwidth', None)\n",
    "\n",
    "import os\n",
    "for dirname, _, filenames in os.walk('/srv/notebooks/data/ESCU'):\n",
    "    for filename in filenames:\n",
    "        print(os.path.join(dirname, filename))\n",
    "\n",
    "print(model)"
   ]
  },
  {
   "cell_type": "markdown",
   "metadata": {},
   "source": [
    "# load data"
   ]
  },
  {
   "cell_type": "code",
   "execution_count": 4,
   "metadata": {},
   "outputs": [],
   "source": [
    "df = pd.read_csv(\"/srv/notebooks/data/ESCU/ESCU_DataSource.csv\", encoding='latin-1', usecols=['id_desc', 'datasource'])"
   ]
  },
  {
   "cell_type": "code",
   "execution_count": 5,
   "metadata": {
    "scrolled": true
   },
   "outputs": [
    {
     "data": {
      "text/html": [
       "<div>\n",
       "<style scoped>\n",
       "    .dataframe tbody tr th:only-of-type {\n",
       "        vertical-align: middle;\n",
       "    }\n",
       "\n",
       "    .dataframe tbody tr th {\n",
       "        vertical-align: top;\n",
       "    }\n",
       "\n",
       "    .dataframe thead th {\n",
       "        text-align: right;\n",
       "    }\n",
       "</style>\n",
       "<table border=\"1\" class=\"dataframe\">\n",
       "  <thead>\n",
       "    <tr style=\"text-align: right;\">\n",
       "      <th></th>\n",
       "      <th>id_desc</th>\n",
       "      <th>datasource</th>\n",
       "    </tr>\n",
       "  </thead>\n",
       "  <tbody>\n",
       "    <tr>\n",
       "      <th>0</th>\n",
       "      <td>3cx_supply_chain_attack_network_indicators:The analytic provided below employs the Network_Resolution datamodel to detect domain indicators associated with the 3CX supply chain attack. By leveraging this query, you can efficiently conduct retrospective analysis of your data to uncover potential compromises.</td>\n",
       "      <td>DNS</td>\n",
       "    </tr>\n",
       "    <tr>\n",
       "      <th>1</th>\n",
       "      <td>7zip_commandline_to_smb_share_path:This search is to detect a suspicious 7z process with commandline pointing to SMB network share. This technique was seen in CONTI LEAK tools where it use 7z to archive a sensitive files and place it in network share tmp folder. This search is a good hunting query that may give analyst a hint why specific user try to archive a file pointing to SMB user which is un usual.</td>\n",
       "      <td>Endpoint Detection and Response</td>\n",
       "    </tr>\n",
       "    <tr>\n",
       "      <th>2</th>\n",
       "      <td>abnormally_high_aws_instances_launched_by_user:This search looks for AWS CloudTrail events where a user successfully launches an abnormally high number of instances. This search is deprecated and have been translated to use the latest Change Datamodel</td>\n",
       "      <td>AWS</td>\n",
       "    </tr>\n",
       "    <tr>\n",
       "      <th>3</th>\n",
       "      <td>abnormally_high_aws_instances_terminated_by_user:This search looks for AWS CloudTrail events where an abnormally high number of instances were successfully terminated by a user in a 10-minute window. This search is deprecated and have been translated to use the latest Change Datamodel.</td>\n",
       "      <td>AWS</td>\n",
       "    </tr>\n",
       "    <tr>\n",
       "      <th>4</th>\n",
       "      <td>abnormally_high_number_of_cloud_infrastructure_api_calls:This search will detect a spike in the number of API calls made to your cloud infrastructure environment by a user.</td>\n",
       "      <td>Change Events Data</td>\n",
       "    </tr>\n",
       "  </tbody>\n",
       "</table>\n",
       "</div>"
      ],
      "text/plain": [
       "                                                                                                                                                                                                                                                                                                                                                                                                                   id_desc  \\\n",
       "0                                                                                                     3cx_supply_chain_attack_network_indicators:The analytic provided below employs the Network_Resolution datamodel to detect domain indicators associated with the 3CX supply chain attack. By leveraging this query, you can efficiently conduct retrospective analysis of your data to uncover potential compromises.   \n",
       "1  7zip_commandline_to_smb_share_path:This search is to detect a suspicious 7z process with commandline pointing to SMB network share. This technique was seen in CONTI LEAK tools where it use 7z to archive a sensitive files and place it in network share tmp folder. This search is a good hunting query that may give analyst a hint why specific user try to archive a file pointing to SMB user which is un usual.   \n",
       "2                                                                                                                                                              abnormally_high_aws_instances_launched_by_user:This search looks for AWS CloudTrail events where a user successfully launches an abnormally high number of instances. This search is deprecated and have been translated to use the latest Change Datamodel   \n",
       "3                                                                                                                           abnormally_high_aws_instances_terminated_by_user:This search looks for AWS CloudTrail events where an abnormally high number of instances were successfully terminated by a user in a 10-minute window. This search is deprecated and have been translated to use the latest Change Datamodel.   \n",
       "4                                                                                                                                                                                                                                             abnormally_high_number_of_cloud_infrastructure_api_calls:This search will detect a spike in the number of API calls made to your cloud infrastructure environment by a user.   \n",
       "\n",
       "                        datasource  \n",
       "0                              DNS  \n",
       "1  Endpoint Detection and Response  \n",
       "2                              AWS  \n",
       "3                              AWS  \n",
       "4               Change Events Data  "
      ]
     },
     "execution_count": 5,
     "metadata": {},
     "output_type": "execute_result"
    }
   ],
   "source": [
    "df.head()"
   ]
  },
  {
   "cell_type": "markdown",
   "metadata": {},
   "source": [
    "# generate embeddings"
   ]
  },
  {
   "cell_type": "code",
   "execution_count": 6,
   "metadata": {},
   "outputs": [
    {
     "data": {
      "text/plain": [
       "(1628, 384)"
      ]
     },
     "execution_count": 6,
     "metadata": {},
     "output_type": "execute_result"
    }
   ],
   "source": [
    "embedding_arr = model.encode(df['id_desc'])\n",
    "embedding_arr.shape"
   ]
  },
  {
   "cell_type": "markdown",
   "metadata": {},
   "source": [
    "## Stage 1 - get a data sample from Splunk\n",
    "In Splunk run a search to pipe a prepared dataset into this environment."
   ]
  },
  {
   "cell_type": "markdown",
   "metadata": {},
   "source": [
    "| makeresults | eval content = \"Between April and June 2024, the NullBulge group emerged targeting users in AI-centric application and gaming communities. The NullBulge persona has showcased creative methods of distributing malware targeting said tools and platforms. Though the group projects an image of activism claiming to be “protecting artists around the world” and claims to be motivated by a pro-art, anti-AI cause, rather than profit, other activities tied to this threat actor may indicate otherwise. One service the group offers is described as “payback through honeypots and malicious mods.” The group is delivering on this claim by targeting extensions and modifications of commonly used AI-art-adjacent applications and games. This has been their main area of focus recently, delivering a small variety of malware payloads. NullBulge’s attacks are characterized by ‘poisoning the well’: the group targets the software supply chain by injecting malicious code into legitimate software distribution mechanisms, exploiting trusted platforms like GitHub, Reddit and Hugging Face to maximize their reach. NullBulge announces their leaks via their own DLS/blog site, alongside occasional 4chan threads. Further, the group is using customized LockBit ransomware builds to maximize the impact of their attacks. In this post, we provide an overview of the NullBulge group’s malicious activities, and technical details of their LockBit payloads.\" | makemv content delim=\";\" | mvexpand content | fit MLTKContainer mode=stage algo=sentence_predictToESCU epochs=100 content into app:sentence_predicttoescu_model"
   ]
  },
  {
   "cell_type": "code",
   "execution_count": 7,
   "metadata": {
    "deletable": false,
    "name": "mltkc_stage"
   },
   "outputs": [],
   "source": [
    "# this cell is not executed from MLTK and should only be used for staging data into the notebook environment\n",
    "def stage(name):\n",
    "    with open(\"data/\"+name+\".csv\", 'r') as f:\n",
    "        df_query = pd.read_csv(f)\n",
    "        #full_text = f.read()\n",
    "        #for l in re.split(r\"(\\.)\", full_text):\n",
    "         #   if l != \".\":\n",
    "          #      name.append(l + \"\\n\")\n",
    "    #pd.DataFrame(string)\n",
    "    with open(\"data/\"+name+\".json\", 'r') as f:\n",
    "        param = json.load(f)\n",
    "    nlp = spacy.load('en_core_web_sm')\n",
    "    #dfs = df.applymap(str)\n",
    "    sbd = nlp.create_pipe('sentencizer')\n",
    "    nlp.add_pipe(sbd)\n",
    "    text = str(df_query.content.values)\n",
    "    doc = nlp(text)\n",
    "    sentence_list =[]\n",
    "    for sentence in doc.sents:\n",
    "        sentence_list.append(sentence.text)\n",
    "    dfnew = pd.DataFrame({'content': sentence_list})\n",
    "    return df_query, param, dfnew"
   ]
  },
  {
   "cell_type": "code",
   "execution_count": 8,
   "metadata": {},
   "outputs": [
    {
     "name": "stdout",
     "output_type": "stream",
     "text": [
      "                                                                                                                                                                                                                                                                                                                                                                                                                                                                                                                                                                                                                                                                                                                                                                                                                                                                                                                                                                                                                                                                                                                                                                                                                                                                                                                                                                                                                                                                     content\n",
      "0  Between April and June 2024, the NullBulge group emerged targeting users in AI-centric application and gaming communities. The NullBulge persona has showcased creative methods of distributing malware targeting said tools and platforms. Though the group projects an image of activism claiming to be “protecting artists around the world” and claims to be motivated by a pro-art, anti-AI cause, rather than profit, other activities tied to this threat actor may indicate otherwise. One service the group offers is described as “payback through honeypots and malicious mods.” The group is delivering on this claim by targeting extensions and modifications of commonly used AI-art-adjacent applications and games. This has been their main area of focus recently, delivering a small variety of malware payloads. NullBulge’s attacks are characterized by ‘poisoning the well’: the group targets the software supply chain by injecting malicious code into legitimate software distribution mechanisms, exploiting trusted platforms like GitHub, Reddit and Hugging Face to maximize their reach. NullBulge announces their leaks via their own DLS/blog site, alongside occasional 4chan threads. Further, the group is using customized LockBit ransomware builds to maximize the impact of their attacks. In this post, we provide an overview of the NullBulge group’s malicious activities, and technical details of their LockBit payloads.\n",
      "(1, 1)\n",
      "                                                                                                                                                                                                                                                                               content\n",
      "0                                                                                                                                                         ['Between April and June 2024, the NullBulge group emerged targeting users in AI-centric application and gaming communities.\n",
      "1                                                                                                                                                                     The NullBulge persona has showcased creative methods of distributing malware targeting said tools and platforms.\n",
      "2                                   Though the group projects an image of activism claiming to be “protecting artists around the world” and claims to be motivated by a pro-art, anti-AI cause, rather than profit, other activities tied to this threat actor may indicate otherwise.\n",
      "3                                                                                                                                                                                         One service the group offers is described as “payback through honeypots and malicious mods.”\n",
      "4                                                                                                                                             The group is delivering on this claim by targeting extensions and modifications of commonly used AI-art-adjacent applications and games.\n",
      "5                                                                                                                                                                                     This has been their main area of focus recently, delivering a small variety of malware payloads.\n",
      "6  NullBulge’s attacks are characterized by ‘poisoning the well’: the group targets the software supply chain by injecting malicious code into legitimate software distribution mechanisms, exploiting trusted platforms like GitHub, Reddit and Hugging Face to maximize their reach.\n",
      "7                                                                                                                                                                                     NullBulge announces their leaks via their own DLS/blog site, alongside occasional 4chan threads.\n",
      "8                                                                                                                                                                            Further, the group is using customized LockBit ransomware builds to maximize the impact of their attacks.\n",
      "9                                                                                                                                               In this post, we provide an overview of the NullBulge group’s malicious activities, and technical details of their LockBit payloads.']\n",
      "(10, 1)\n",
      "{'options': {'params': {'mode': 'stage', 'algo': 'sentence_predictToESCU', 'epochs': '100'}, 'args': ['content'], 'feature_variables': ['content'], 'model_name': 'sentence_predicttoescu_model', 'algo_name': 'MLTKContainer', 'mlspl_limits': {'handle_new_cat': 'default', 'max_distinct_cat_values': '100', 'max_distinct_cat_values_for_classifiers': '100', 'max_distinct_cat_values_for_scoring': '100', 'max_fit_time': '600', 'max_inputs': '100000', 'max_memory_usage_mb': '28000', 'max_model_size_mb': '30', 'max_score_time': '600', 'use_sampling': 'true'}, 'kfold_cv': None}, 'feature_variables': ['content']}\n"
     ]
    }
   ],
   "source": [
    "# THIS CELL IS NOT EXPORTED - free notebook cell for testing or development purposes\n",
    "df_query, param, dfnew = stage(\"sentence_predicttoescu_model\")\n",
    "print(df_query) \n",
    "print(df_query.shape)\n",
    "print(dfnew)\n",
    "print(dfnew.shape)\n",
    "print(str(param))"
   ]
  },
  {
   "cell_type": "markdown",
   "metadata": {},
   "source": [
    "## Stage 2 - create and initialize a model"
   ]
  },
  {
   "cell_type": "code",
   "execution_count": 9,
   "metadata": {
    "deletable": false,
    "name": "mltkc_init"
   },
   "outputs": [],
   "source": [
    "# initialize the model\n",
    "# params: data and parameters\n",
    "# returns the model object which will be used as a reference to call fit, apply and summary subsequently\n",
    "def init(df,param):\n",
    "    model = SentenceTransformer(MODEL_DIRECTORY)\n",
    "    #return model\n",
    "    #model = {}\n",
    "    #model['hyperparameter'] = 42.0\n",
    "    return model"
   ]
  },
  {
   "cell_type": "code",
   "execution_count": 10,
   "metadata": {
    "scrolled": true
   },
   "outputs": [],
   "source": [
    "model = init(df,param)"
   ]
  },
  {
   "cell_type": "code",
   "execution_count": 11,
   "metadata": {},
   "outputs": [
    {
     "name": "stdout",
     "output_type": "stream",
     "text": [
      "SentenceTransformer(\n",
      "  (0): Transformer({'max_seq_length': 256, 'do_lower_case': False}) with Transformer model: BertModel \n",
      "  (1): Pooling({'word_embedding_dimension': 384, 'pooling_mode_cls_token': False, 'pooling_mode_mean_tokens': True, 'pooling_mode_max_tokens': False, 'pooling_mode_mean_sqrt_len_tokens': False, 'pooling_mode_weightedmean_tokens': False, 'pooling_mode_lasttoken': False, 'include_prompt': True})\n",
      "  (2): Normalize()\n",
      ")\n"
     ]
    }
   ],
   "source": [
    "print(model)"
   ]
  },
  {
   "cell_type": "markdown",
   "metadata": {},
   "source": [
    "## Stage 3 - fit the model"
   ]
  },
  {
   "cell_type": "markdown",
   "metadata": {},
   "source": [
    "Note that for this algorithm the model is pre-trained and therefore this stage is a placeholder only"
   ]
  },
  {
   "cell_type": "code",
   "execution_count": 12,
   "metadata": {
    "deletable": false,
    "name": "mltkc_fit"
   },
   "outputs": [],
   "source": [
    "# returns a fit info json object\n",
    "def fit(model,df,param):\n",
    "    info = {\"message\": \"model trained\"}\n",
    "    return info"
   ]
  },
  {
   "cell_type": "code",
   "execution_count": 13,
   "metadata": {},
   "outputs": [
    {
     "name": "stdout",
     "output_type": "stream",
     "text": [
      "{'message': 'model trained'}\n"
     ]
    }
   ],
   "source": [
    "print(fit(model,df,param))"
   ]
  },
  {
   "cell_type": "markdown",
   "metadata": {},
   "source": [
    "## Stage 4 - apply the model"
   ]
  },
  {
   "cell_type": "code",
   "execution_count": 14,
   "metadata": {
    "deletable": false,
    "name": "mltkc_apply"
   },
   "outputs": [],
   "source": [
    "def apply(model,dfnew,param):\n",
    "    model = SentenceTransformer(MODEL_DIRECTORY)\n",
    "    escu_list_0 =[]\n",
    "    escu_list_1 = []\n",
    "    escu_list_2 = []\n",
    "    escu_list_3 = []\n",
    "    escu_list_4 = []\n",
    "    df = pd.read_csv(\"/srv/notebooks/data/ESCU/ESCU_DataSource.csv\", encoding='latin-1', usecols=['id_desc', 'datasource'])\n",
    "    embedding_arr = model.encode(df['id_desc'])\n",
    "    embedding_arr.shape\n",
    "    for index, row in dfnew.iterrows():\n",
    "        query_embedding = model.encode(str(row['content']))\n",
    "        dist = DistanceMetric.get_metric('euclidean') # other distances: manhattan, chebyshev\n",
    "        # compute pair wise distances between query embedding and all resume embeddings\n",
    "        dist_arr = dist.pairwise(embedding_arr, query_embedding.reshape(1, -1)).flatten()\n",
    "        # sort results\n",
    "        idist_arr_sorted = np.argsort(dist_arr)\n",
    "        escu_list_0.append(df['id_desc'].iloc[idist_arr_sorted[0]])\n",
    "        escu_list_1.append(df['id_desc'].iloc[idist_arr_sorted[1]])\n",
    "        escu_list_2.append(df['id_desc'].iloc[idist_arr_sorted[2]])\n",
    "        escu_list_3.append(df['id_desc'].iloc[idist_arr_sorted[3]])\n",
    "        escu_list_4.append(df['id_desc'].iloc[idist_arr_sorted[4]])\n",
    "        #suggested_escu=df['id_desc'].iloc[idist_arr_sorted[0]]\n",
    "    #print(spl_list)\n",
    "    dfnew['suggested_escu_1']=escu_list_0\n",
    "    dfnew['suggested_escu_2']=escu_list_1\n",
    "    dfnew['suggested_escu_3']=escu_list_2\n",
    "    dfnew['suggested_escu_4']=escu_list_3\n",
    "    dfnew['suggested_escu_5']=escu_list_4\n",
    "\n",
    "    return dfnew"
   ]
  },
  {
   "cell_type": "code",
   "execution_count": 15,
   "metadata": {},
   "outputs": [
    {
     "name": "stdout",
     "output_type": "stream",
     "text": [
      "                                                                                                                                                                                                                                                                               content  \\\n",
      "0                                                                                                                                                         ['Between April and June 2024, the NullBulge group emerged targeting users in AI-centric application and gaming communities.   \n",
      "1                                                                                                                                                                     The NullBulge persona has showcased creative methods of distributing malware targeting said tools and platforms.   \n",
      "2                                   Though the group projects an image of activism claiming to be “protecting artists around the world” and claims to be motivated by a pro-art, anti-AI cause, rather than profit, other activities tied to this threat actor may indicate otherwise.   \n",
      "3                                                                                                                                                                                         One service the group offers is described as “payback through honeypots and malicious mods.”   \n",
      "4                                                                                                                                             The group is delivering on this claim by targeting extensions and modifications of commonly used AI-art-adjacent applications and games.   \n",
      "5                                                                                                                                                                                     This has been their main area of focus recently, delivering a small variety of malware payloads.   \n",
      "6  NullBulge’s attacks are characterized by ‘poisoning the well’: the group targets the software supply chain by injecting malicious code into legitimate software distribution mechanisms, exploiting trusted platforms like GitHub, Reddit and Hugging Face to maximize their reach.   \n",
      "7                                                                                                                                                                                     NullBulge announces their leaks via their own DLS/blog site, alongside occasional 4chan threads.   \n",
      "8                                                                                                                                                                            Further, the group is using customized LockBit ransomware builds to maximize the impact of their attacks.   \n",
      "9                                                                                                                                               In this post, we provide an overview of the NullBulge group’s malicious activities, and technical details of their LockBit payloads.']   \n",
      "\n",
      "                                                                                                                                                                                                                                                                                                                                                                                                                                                                                           suggested_escu_1  \\\n",
      "0                                                                                                                                                                                                                                                                                                                          tt03:This threat is generated when a single account or multiple accounts have repeated login failures followed by malicious activity such as data movement or scanning activity.   \n",
      "1                                                                                                                                                                                                                                                                                                                                                                                                  soar_malware_investigation:This playbook investigates and remediates malware infections on the endpoint.   \n",
      "2  add_or_set_windows_defender_exclusion:This analytic will identify a suspicious process command-line related to Windows Defender exclusion feature. This command is abused by adversaries, malware authors and red teams to bypass Windows Defender Antivirus products by excluding folder path, file path, process and extensions. From its real time or schedule scan to execute their malicious code. This is a good indicator for defense evasion and to look further for events after this behavior.   \n",
      "3                                                                                                                                                                                                                                                                                                                                                                                                                          at63:Triggered when a user visits a malicious or suspicious site by IP directly.   \n",
      "4                                                                                                                                                                                                                                                                                                                                           hunting_covid_themed_attacks_with_iocs:Leverage open source Theat Intelligence and add COVID related IOCs to Enterprise Security Threat Intelligence Framework.   \n",
      "5                                                                                                                                                                                                                                                                                                                                                                                                  soar_malware_investigation:This playbook investigates and remediates malware infections on the endpoint.   \n",
      "6                                   linux_stdout_redirection_to_dev_null_file:This analytic looks for suspicious commandline that redirect the stdout or possible stderror to dev/null file. This technique was seen in cyclopsblink malware where it redirect the possible output or error while modify the iptables firewall setting of the compromised machine to hide its action from the user. This Anomaly detection is a good pivot to look further why process or user use this un common approach.   \n",
      "7                                                                                                                                                                                                                                                                                                                                                   tt24:This threat is generated when a publicly facing website is possibly under attack. Typical indicators in this threat are things like SQL injection.   \n",
      "8                                                                                                                                                                                                                                                                                                                                                                                          common_ransomware_extensions:The search looks for file modifications with extensions commonly used by Ransomware   \n",
      "9                                                                                                                                                                                                                                                                                                                                                                                tt33:This threat is generated when there is suspicious malware activity following a blacklisted or malicious domain visit.   \n",
      "\n",
      "                                                                                                                                                                                                                                                                                                                                                                                                                                                                                                                suggested_escu_2  \\\n",
      "0                                                                                                                                                                                                                                                                                                                                                                                tt02:This threat is generated when an account or multiple accounts exhibit behavior outside of the normal baseline that indicates a compromise.   \n",
      "1                                                                                                                                            office_product_spawn_cmd_process:this search is to detect a suspicious office product process that spawn cmd child process. This is commonly seen in a ms office product having macro to execute shell command to download or execute malicious lolbin relative to its malicious code. This is seen in trickbot spear phishing doc where it execute shell cmd to run mshta payload.   \n",
      "2  windows_defender_exclusion_registry_entry:This analytic will detect a suspicious process that modify a registry related to windows defender exclusion feature. This registry is abused by adversaries, malware author and red teams to bypassed Windows Defender Anti-Virus product by excluding folder path, file path, process, extensions and etc. from its real time or schedule scan to execute their malicious code. This is a good indicator for a defense evasion and to look further for events after this behavior.   \n",
      "3                                                                                                                                                                                                                                                                                                                                                                                                                                        at36:Triggered by detecting sequences in HTTP requests that signify a possible exploit.   \n",
      "4                                                                                                                                                                    executables_or_script_creation_in_suspicious_path:This analytic will identify suspicious executable or scripts (known file extensions) in a list of suspicious file paths in Windows. This technique is used by adversaries to evade detection. The suspicious file path are known paths used in the wild and are not common to have executable or scripts.   \n",
      "5                                                                                                                                                                                                                                                                                                                                                                                                                     basic_malware_outbreak:Looks for the same malware occurring on multiple systems in a short period of time.   \n",
      "6                                                                                                                                                                                                                                                                                                                                                                        tt24:This threat is generated when a publicly facing website is possibly under attack. Typical indicators in this threat are things like SQL injection.   \n",
      "7                                                                                                                                                                                                                                                                                                                                                                                                                                      dump_lsass_via_comsvcs_dll:Detect the usage of comsvcs.dll for dumping the lsass process.   \n",
      "8                                                                                                                                                                                                                                                allow_file_and_printing_sharing_in_firewall:This search is to detect a suspicious modification of firewall to allow file and printer sharing. This technique was seen in ransomware to be able to discover more machine connected to the compromised host to encrypt more files   \n",
      "9                                                                                                                                                                                                                                                                                                                                                                        tt07:This threat is based on the compromised account threat, however looks for data exfiltration after account takeover instead of suspicious behavior.   \n",
      "\n",
      "                                                                                                                                                                                                                                                                                                                                                                                                                                                                                                        suggested_escu_3  \\\n",
      "0                                                                                                                                                  adsisearcher_account_discovery:The following analytic utilizes PowerShell Script Block Logging (EventCode=4104) to identify the `[Adsisearcher]` type accelerator being used to query Active Directory for domain groups. Red Teams and adversaries may leverage `[Adsisearcher]` to enumerate domain users for situational awareness and Active Directory Discovery.   \n",
      "1                                                                                                                                                                          showcase_new_host_with_suspicious_cmd_launch:<p>Very rarely would cmd.exe, regedit.exe, or powershell.exe be launched by services.exe. This search will detect that malware persistence strategy. (<a href=\"https://car.mitre.org/wiki/CAR-2014-05-002\">MITRE CAR Reference</a>)</p><p><b>Alert Volume:</b> Very Low (for most companies)</p>   \n",
      "2  powershell_windows_defender_exclusion_commands:This analytic will detect a suspicious process commandline related to windows defender exclusion feature. This command is abused by adversaries, malware author and red teams to bypassed Windows Defender Anti-Virus product by excluding  folder path, file path, process, extensions and etc. from its real time or schedule scan to execute their malicious code. This is a good indicator for defense evasion and to look further for events after this behavior.   \n",
      "3                                                                                                                                                                                                                                                                                                                                                                        soar_malicious_insider_containment:This playbook demonstrates an automated response plan to handling malicious insiders within the environment.   \n",
      "4                                                                                                                                                                                                                                                                                                                                                                                                       common_ransomware_extensions:The search looks for file modifications with extensions commonly used by Ransomware   \n",
      "5                                                                                                                                    showcase_lookalike_filenames:<p>To evade analysts, attackers will create a service with a name similar to that of a standard Windows service. This search looks for small differences. Idea from David Bianco, formerly of Sqrrl (<a href=\"http://detect-respond.blogspot.com/2016/11/hunting-for-malware-critical-process.html\">link</a>).</p><p><b>Alert Volume:</b> Very Low</p>   \n",
      "6                                                                                                                                                                                                                                                                                                                                                                                                               soar_malware_investigation:This playbook investigates and remediates malware infections on the endpoint.   \n",
      "7                                                                                                                                                                                                                                                                                                                                                              new_data_exfil_dlp_alerts:<p>When you first seen an alert from a user who hasn't generated DLP alerts for data exfiltration before, learn about that.</p>   \n",
      "8                                                                                                                      known_services_killed_by_ransomware:This search detects a suspicioous termination of known services killed by ransomware before encrypting files in a compromised machine. This technique is commonly seen in most of ransomware now a days to avoid exception error while accessing the targetted files it wants to encrypts because of the open handle of those services to the targetted file.   \n",
      "9                                                                                                                                                                                                                                                                                                                                       tt03:This threat is generated when a single account or multiple accounts have repeated login failures followed by malicious activity such as data movement or scanning activity.   \n",
      "\n",
      "                                                                                                                                                                                                                                                                                                                                                                                                                                                                                                                                                     suggested_escu_4  \\\n",
      "0                                                                                                                                                                                                                                                                                                                                                                             tt28:This threat is generated when a user (or group of users) exhibit general suspicious behavior, specifically patterns of behavior that are outside the normal baseline for the user.   \n",
      "1                                                                                                                                                                                                                                                                                                                                                                                                                                                          basic_malware_outbreak:Looks for the same malware occurring on multiple systems in a short period of time.   \n",
      "2                                                                                                                                                                                    domain_group_discovery_with_adsisearcher:The following analytic utilizes PowerShell Script Block Logging (EventCode=4104) to identify the `[Adsisearcher]` type accelerator being used to query Active Directory for domain groups. Red Teams and adversaries may leverage `[Adsisearcher]` to enumerate domain groups for situational awareness and Active Directory Discovery.   \n",
      "3                                                                                                                                                                                                                                                                                                                                                                                                                monitor_web_traffic_for_brand_abuse:This search looks for Web requests to faux domains similar to the one that you want to have monitored for abuse.   \n",
      "4                                                                                                                                                                                                                                                                                                                                     detect_path_interception_by_creation_of_program_exe:The detection Detect Path Interception By Creation Of program exe is detecting the abuse of unquoted service paths, which is a popular technique for privilege escalation.    \n",
      "5                                                                                                                                                                                                                                                                                                                                                                                               integrating_misp_and_splunk_enterprise_security:Integrating COVID (or Any) Threat Indicators from Malware Information Sharing Platform (MISP) in Enterprise Security.   \n",
      "6                                                                                                                                                                 linux_preload_hijack_library_calls:This analytic is to detect a suspicious command that may hijack a library function in linux platform. This technique is commonly abuse by adversaries, malware author and red teamers to gain privileges and persist on the machine. This detection pertains to loading a dll to hijack or hook a library function of specific program using LD_PRELOAD command.   \n",
      "7                                                                                                                                                                                                                                                                                                                                                                                            splunk_enterprise_information_disclosure:This search allows you to look for evidence of exploitation for CVE-2018-11409, a Splunk Enterprise Information Disclosure Bug.   \n",
      "8  windows_modify_registry_default_icon_setting:This analytic is developed to detect suspicious registry modification to change the default icon association of windows to ransomware . This technique was seen in Lockbit ransomware where it modified the default icon association of the compromised Windows OS  host with its dropped ransomware icon file as part of its  defacement payload. This registry is not commonly modified by a normal user so having this anomaly detection may help to catch possible lockbit ransomware infection or other malware.   \n",
      "9                                                                                                                                                                                                                                                                                                                                                                                                                                                                     tt26:Threat is generated when a user or device exhibits suspicious behavior after an intrusion.   \n",
      "\n",
      "                                                                                                                                                                                                                                                                                                                                                                                                                                                                                                                                                                                                                                                                                                                                                                                                                                                                                               suggested_escu_5  \n",
      "0                                                                                                                                                                                                                                                                                                                                                                                                                                                                                                                                                                                                                                                                                                                                                       tt24:This threat is generated when a publicly facing website is possibly under attack. Typical indicators in this threat are things like SQL injection.  \n",
      "1  office_product_spawning_bitsadmin:The following detection identifies the latest behavior utilized by different malware families (including TA551, IcedID). This detection identifies any Windows Office Product spawning `bitsadmin.exe`. In malicious instances, the command-line of `bitsadmin.exe` will contain a URL to a remote destination or similar command-line arguments as transfer, Download, priority, Foreground. In addition, Threat Research has released a detections identifying suspicious use of `bitsadmin.exe`. In this instance, we narrow our detection down to the Office suite as a parent process. During triage, review all file modifications. Capture and analyze any artifacts on disk. The Office Product, or `bitsadmin.exe` will have reached out to a remote destination, capture and block the IPs or domain. Review additional parallel processes for further activity.  \n",
      "2                                                                                                                                                                                                                                                                                                            elevated_group_discovery_with_powerview:The following analytic utilizes PowerShell Script Block Logging (EventCode=4104) to identify the execution of the `Get-DomainGroupMember` commandlet. `Get-DomainGroupMember` is part of PowerView, a PowerShell tool used to perform enumeration on Windows domains. As the name suggests, `Get-DomainGroupMember` is used to list the members of an specific domain group. Red Teams and adversaries alike use PowerView to enumerate elevated domain groups for situational awareness and Active Directory Discovery to identify high privileged users.  \n",
      "3                                                                                                                                                                                                                                                                                                                                                                                                                                                                                                                                                                                                                                                                                                                                                                       web_fraud_-_account_harvesting:This search is used to identify the creation of multiple user accounts using the same email domain name.  \n",
      "4                                                                                                                                                                                                                                         windows_admon_group_policy_object_created:The following analytic leverages Splunks Admon to identify the creation of a new Group Policy Object. With GPOs, system administrators can manage and configure applications, software operations, and user settings throughout an entire organization. GPOs can be abused and leveraged by adversaries to escalate privileges or deploy malware across an Active Directory network. As an example, the Lockbit ransomware malware will create new group policies on the domain controller that are then pushed out to every device on the network. Security teams should monitor the creation of new Group Policy Objects.  \n",
      "5                                                                                                                                                                                                                                                                                                                                                                                                                                                                                                                                                                                                                                                                                                                                                                                       soar_threat_hunting:Hunt for internal sightings of malicious files or connections to malicious domains or IP addresses.  \n",
      "6                                                                                                                                                                                                                                                                                                                                                                                                                                                                                                                           showcase_lookalike_filenames:<p>To evade analysts, attackers will create a service with a name similar to that of a standard Windows service. This search looks for small differences. Idea from David Bianco, formerly of Sqrrl (<a href=\"http://detect-respond.blogspot.com/2016/11/hunting-for-malware-critical-process.html\">link</a>).</p><p><b>Alert Volume:</b> Very Low</p>  \n",
      "7                                                                                                                                                                                                                                                                                                                                                                                                                                                                                                                                                                                                                                                     showcase_hosts_where_sourcetypes_go_silent:<p>A frequent concern of SOCs is that their data feeds will disappear. This search will look on a host-by-host basis for when your security sources stop reporting home.</p><p><b>Alert Volume:</b> Medium</p>  \n",
      "8                                                                                                                                                                                           ryuk_wake_on_lan_command:This Splunk query identifies the use of Wake-on-LAN utilized by Ryuk ransomware. The Ryuk Ransomware uses the Wake-on-Lan feature to turn on powered off devices on a compromised network to have greater success encrypting them. This is a high fidelity indicator of Ryuk ransomware executing on an endpoint. Upon triage, isolate the endpoint. Additional file modification events will be within the users profile (\\appdata\\roaming) and in public directories (users\\public\\). Review all Scheduled Tasks on the isolated endpoint and across the fleet. Suspicious Scheduled Tasks will include a path to a unknown binary and those endpoints should be isolated until triaged.  \n",
      "9                                                                                                                                                                                                                                                                                                                                                                                             screensaver_event_trigger_execution:This analytic is developed to detect possible event trigger execution through screensaver registry entry modification for persistence or privilege escalation. This technique was seen in several APT and malware where they put the malicious payload path to the SCRNSAVE.EXE registry key to redirect the execution to their malicious payload path. This TTP is a good indicator that some attacker may modify this entry for their persistence and privilege escalation.  \n"
     ]
    }
   ],
   "source": [
    "returns=apply(model,dfnew,param)\n",
    "print(returns)"
   ]
  },
  {
   "cell_type": "markdown",
   "metadata": {},
   "source": [
    "## Stage 5 - save the model"
   ]
  },
  {
   "cell_type": "code",
   "execution_count": 16,
   "metadata": {
    "deletable": false,
    "name": "mltkc_save"
   },
   "outputs": [],
   "source": [
    "# save model to name in expected convention \"<algo_name>_<model_name>.h5\"\n",
    "def save(model,name):\n",
    "    # model will not be saved or reloaded as it is pre-built\n",
    "    with open(MODEL_DIRECTORY + name + \".json\", 'wb') as file:\n",
    "        #model_dict=model.state_dict()\n",
    "        #model_list=list(model)\n",
    "         pickle.dump(model, file)\n",
    "     #   torch.save(model.state_dict(), file)\n",
    "    return model"
   ]
  },
  {
   "cell_type": "code",
   "execution_count": 17,
   "metadata": {},
   "outputs": [
    {
     "name": "stdout",
     "output_type": "stream",
     "text": [
      "SentenceTransformer(\n",
      "  (0): Transformer({'max_seq_length': 256, 'do_lower_case': False}) with Transformer model: BertModel \n",
      "  (1): Pooling({'word_embedding_dimension': 384, 'pooling_mode_cls_token': False, 'pooling_mode_mean_tokens': True, 'pooling_mode_max_tokens': False, 'pooling_mode_mean_sqrt_len_tokens': False, 'pooling_mode_weightedmean_tokens': False, 'pooling_mode_lasttoken': False, 'include_prompt': True})\n",
      "  (2): Normalize()\n",
      ")\n"
     ]
    }
   ],
   "source": [
    "print(model)"
   ]
  },
  {
   "cell_type": "markdown",
   "metadata": {},
   "source": [
    "## Stage 6 - load the model"
   ]
  },
  {
   "cell_type": "code",
   "execution_count": 18,
   "metadata": {
    "deletable": false,
    "name": "mltkc_load"
   },
   "outputs": [],
   "source": [
    "# load model from name in expected convention \"<algo_name>_<model_name>.h5\"\n",
    "def load(name):\n",
    "    # model will not be saved or reloaded as it is pre-built\n",
    "    #model = {}\n",
    "    with open(MODEL_DIRECTORY + name + \".json\", 'rb') as file:\n",
    "        model=pickle.load(file)\n",
    "    #model = {}\n",
    "     #   model = json.load(file)\n",
    "    #model=model.load_model(\"t5\",\"/srv/outputs/simplet5-epoch-4-train-loss-0.9567-val-loss-0.8704\", use_gpu=False)\n",
    "    return model"
   ]
  },
  {
   "cell_type": "markdown",
   "metadata": {},
   "source": [
    "## Stage 7 - provide a summary of the model"
   ]
  },
  {
   "cell_type": "code",
   "execution_count": 19,
   "metadata": {
    "deletable": false,
    "name": "mltkc_summary"
   },
   "outputs": [],
   "source": [
    "# return model summary\n",
    "def summary(model=None):\n",
    "    returns = {\"version\": {\"spacy\": spacy.__version__} }\n",
    "    if model is not None:\n",
    "        s = []\n",
    "        returns[\"summary\"] = ''.join(s)\n",
    "    return returns"
   ]
  },
  {
   "cell_type": "markdown",
   "metadata": {},
   "source": [
    "## End of Stages\n",
    "All subsequent cells are not tagged and can be used for further freeform code"
   ]
  },
  {
   "cell_type": "code",
   "execution_count": null,
   "metadata": {},
   "outputs": [],
   "source": []
  },
  {
   "cell_type": "code",
   "execution_count": null,
   "metadata": {},
   "outputs": [],
   "source": []
  },
  {
   "cell_type": "code",
   "execution_count": null,
   "metadata": {},
   "outputs": [],
   "source": []
  },
  {
   "cell_type": "code",
   "execution_count": null,
   "metadata": {},
   "outputs": [],
   "source": []
  },
  {
   "cell_type": "code",
   "execution_count": null,
   "metadata": {},
   "outputs": [],
   "source": []
  }
 ],
 "metadata": {
  "kernelspec": {
   "display_name": "Python 3 (ipykernel)",
   "language": "python",
   "name": "python3"
  },
  "language_info": {
   "codemirror_mode": {
    "name": "ipython",
    "version": 3
   },
   "file_extension": ".py",
   "mimetype": "text/x-python",
   "name": "python",
   "nbconvert_exporter": "python",
   "pygments_lexer": "ipython3",
   "version": "3.9.19"
  }
 },
 "nbformat": 4,
 "nbformat_minor": 4
}
