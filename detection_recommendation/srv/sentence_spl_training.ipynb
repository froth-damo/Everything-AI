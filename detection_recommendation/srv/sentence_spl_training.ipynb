{
 "cells": [
  {
   "cell_type": "markdown",
   "id": "af10075b-80bd-4cd2-b11a-4bd7201be5a4",
   "metadata": {},
   "source": [
    "# Notebook for Converting Sentences to Suggested SPL"
   ]
  },
  {
   "cell_type": "markdown",
   "id": "616553a6-20ea-444a-aac3-37ac354492de",
   "metadata": {},
   "source": [
    "# Stage 0 - download models and import libraries"
   ]
  },
  {
   "cell_type": "code",
   "execution_count": 10,
   "id": "c60f0671-c86a-4148-9e58-0f8cc659a934",
   "metadata": {},
   "outputs": [
    {
     "name": "stdout",
     "output_type": "stream",
     "text": [
      "\n",
      "\u001b[1m[\u001b[0m\u001b[34;49mnotice\u001b[0m\u001b[1;39;49m]\u001b[0m\u001b[39;49m A new release of pip is available: \u001b[0m\u001b[31;49m23.0.1\u001b[0m\u001b[39;49m -> \u001b[0m\u001b[32;49m24.3.1\u001b[0m\n",
      "\u001b[1m[\u001b[0m\u001b[34;49mnotice\u001b[0m\u001b[1;39;49m]\u001b[0m\u001b[39;49m To update, run: \u001b[0m\u001b[32;49mpip install --upgrade pip\u001b[0m\n"
     ]
    }
   ],
   "source": [
    "!pip install simplet5 -q"
   ]
  },
  {
   "cell_type": "code",
   "execution_count": 11,
   "id": "6f1069eb-acff-41ff-94aa-187f8f2215da",
   "metadata": {},
   "outputs": [
    {
     "name": "stdout",
     "output_type": "stream",
     "text": [
      "/srv/notebooks/data/ESCU/ESCU_Dataset.csv\n"
     ]
    }
   ],
   "source": [
    "import numpy as np # linear algebra\n",
    "import pandas as pd # data processing, CSV file I/O (e.g. pd.read_csv)\n",
    "from sklearn.model_selection import train_test_split\n",
    "\n",
    "# Input data files are available in the read-only \"../input/\" directory\n",
    "# For example, running this (by clicking run or pressing Shift+Enter) will list all files under the input directory\n",
    "\n",
    "import os\n",
    "for dirname, _, filenames in os.walk('/srv/notebooks/data/ESCU'):\n",
    "    for filename in filenames:\n",
    "        print(os.path.join(dirname, filename))"
   ]
  },
  {
   "cell_type": "code",
   "execution_count": 12,
   "id": "e271151e-0219-40ce-b52d-891c85010efd",
   "metadata": {},
   "outputs": [],
   "source": [
    "df = pd.read_csv(\"/srv/notebooks/data/ESCU/ESCU_Dataset.csv\", encoding='latin-1', usecols=['description', 'qualifiedSearch'])"
   ]
  },
  {
   "cell_type": "code",
   "execution_count": 13,
   "id": "82d986b8-099c-41be-8730-8b99c45c9e5d",
   "metadata": {},
   "outputs": [
    {
     "data": {
      "text/html": [
       "<div>\n",
       "<style scoped>\n",
       "    .dataframe tbody tr th:only-of-type {\n",
       "        vertical-align: middle;\n",
       "    }\n",
       "\n",
       "    .dataframe tbody tr th {\n",
       "        vertical-align: top;\n",
       "    }\n",
       "\n",
       "    .dataframe thead th {\n",
       "        text-align: right;\n",
       "    }\n",
       "</style>\n",
       "<table border=\"1\" class=\"dataframe\">\n",
       "  <thead>\n",
       "    <tr style=\"text-align: right;\">\n",
       "      <th></th>\n",
       "      <th>description</th>\n",
       "      <th>qualifiedSearch</th>\n",
       "    </tr>\n",
       "  </thead>\n",
       "  <tbody>\n",
       "    <tr>\n",
       "      <th>0</th>\n",
       "      <td>Maintains a list of Authentication app values ...</td>\n",
       "      <td>tstats summariesonly=true min(\"_time\") as \"fi...</td>\n",
       "    </tr>\n",
       "    <tr>\n",
       "      <th>1</th>\n",
       "      <td>Detects user and computer account deletion</td>\n",
       "      <td>from datamodel:\"Change\".\"Account_Management\" ...</td>\n",
       "    </tr>\n",
       "    <tr>\n",
       "      <th>2</th>\n",
       "      <td>Maintains a list of users that have authentica...</td>\n",
       "      <td>tstats `summariesonly` count from datamodel=A...</td>\n",
       "    </tr>\n",
       "    <tr>\n",
       "      <th>3</th>\n",
       "      <td>Detects excessive number of failed login attem...</td>\n",
       "      <td>from datamodel:\"Authentication\".\"Authenticati...</td>\n",
       "    </tr>\n",
       "    <tr>\n",
       "      <th>4</th>\n",
       "      <td>Detects an excessive number of failed login at...</td>\n",
       "      <td>tstats `summariesonly` values(Authentication....</td>\n",
       "    </tr>\n",
       "  </tbody>\n",
       "</table>\n",
       "</div>"
      ],
      "text/plain": [
       "                                         description  \\\n",
       "0  Maintains a list of Authentication app values ...   \n",
       "1         Detects user and computer account deletion   \n",
       "2  Maintains a list of users that have authentica...   \n",
       "3  Detects excessive number of failed login attem...   \n",
       "4  Detects an excessive number of failed login at...   \n",
       "\n",
       "                                     qualifiedSearch  \n",
       "0   tstats summariesonly=true min(\"_time\") as \"fi...  \n",
       "1   from datamodel:\"Change\".\"Account_Management\" ...  \n",
       "2   tstats `summariesonly` count from datamodel=A...  \n",
       "3   from datamodel:\"Authentication\".\"Authenticati...  \n",
       "4   tstats `summariesonly` values(Authentication....  "
      ]
     },
     "execution_count": 13,
     "metadata": {},
     "output_type": "execute_result"
    }
   ],
   "source": [
    "df.head()"
   ]
  },
  {
   "cell_type": "code",
   "execution_count": 14,
   "id": "5c4552ef-a9ed-46a7-a4d2-0bd50345e873",
   "metadata": {},
   "outputs": [],
   "source": [
    "# simpleT5 expects dataframe to have 2 columns: \"source_text\" and \"target_text\"\n",
    "df = df.rename(columns={\"qualifiedSearch\":\"target_text\", \"description\":\"source_text\"})\n",
    "df = df[['source_text', 'target_text']]"
   ]
  },
  {
   "cell_type": "code",
   "execution_count": 15,
   "id": "657bff0b-5d6c-4e6f-801c-600bf536c351",
   "metadata": {},
   "outputs": [
    {
     "data": {
      "text/html": [
       "<div>\n",
       "<style scoped>\n",
       "    .dataframe tbody tr th:only-of-type {\n",
       "        vertical-align: middle;\n",
       "    }\n",
       "\n",
       "    .dataframe tbody tr th {\n",
       "        vertical-align: top;\n",
       "    }\n",
       "\n",
       "    .dataframe thead th {\n",
       "        text-align: right;\n",
       "    }\n",
       "</style>\n",
       "<table border=\"1\" class=\"dataframe\">\n",
       "  <thead>\n",
       "    <tr style=\"text-align: right;\">\n",
       "      <th></th>\n",
       "      <th>source_text</th>\n",
       "      <th>target_text</th>\n",
       "    </tr>\n",
       "  </thead>\n",
       "  <tbody>\n",
       "    <tr>\n",
       "      <th>0</th>\n",
       "      <td>Maintains a list of Authentication app values ...</td>\n",
       "      <td>tstats summariesonly=true min(\"_time\") as \"fi...</td>\n",
       "    </tr>\n",
       "    <tr>\n",
       "      <th>1</th>\n",
       "      <td>Detects user and computer account deletion</td>\n",
       "      <td>from datamodel:\"Change\".\"Account_Management\" ...</td>\n",
       "    </tr>\n",
       "    <tr>\n",
       "      <th>2</th>\n",
       "      <td>Maintains a list of users that have authentica...</td>\n",
       "      <td>tstats `summariesonly` count from datamodel=A...</td>\n",
       "    </tr>\n",
       "    <tr>\n",
       "      <th>3</th>\n",
       "      <td>Detects excessive number of failed login attem...</td>\n",
       "      <td>from datamodel:\"Authentication\".\"Authenticati...</td>\n",
       "    </tr>\n",
       "    <tr>\n",
       "      <th>4</th>\n",
       "      <td>Detects an excessive number of failed login at...</td>\n",
       "      <td>tstats `summariesonly` values(Authentication....</td>\n",
       "    </tr>\n",
       "  </tbody>\n",
       "</table>\n",
       "</div>"
      ],
      "text/plain": [
       "                                         source_text  \\\n",
       "0  Maintains a list of Authentication app values ...   \n",
       "1         Detects user and computer account deletion   \n",
       "2  Maintains a list of users that have authentica...   \n",
       "3  Detects excessive number of failed login attem...   \n",
       "4  Detects an excessive number of failed login at...   \n",
       "\n",
       "                                         target_text  \n",
       "0   tstats summariesonly=true min(\"_time\") as \"fi...  \n",
       "1   from datamodel:\"Change\".\"Account_Management\" ...  \n",
       "2   tstats `summariesonly` count from datamodel=A...  \n",
       "3   from datamodel:\"Authentication\".\"Authenticati...  \n",
       "4   tstats `summariesonly` values(Authentication....  "
      ]
     },
     "execution_count": 15,
     "metadata": {},
     "output_type": "execute_result"
    }
   ],
   "source": [
    "df.head()"
   ]
  },
  {
   "cell_type": "code",
   "execution_count": 16,
   "id": "9bce1fff-c087-4c2b-989d-909637cd307d",
   "metadata": {},
   "outputs": [
    {
     "data": {
      "text/html": [
       "<div>\n",
       "<style scoped>\n",
       "    .dataframe tbody tr th:only-of-type {\n",
       "        vertical-align: middle;\n",
       "    }\n",
       "\n",
       "    .dataframe tbody tr th {\n",
       "        vertical-align: top;\n",
       "    }\n",
       "\n",
       "    .dataframe thead th {\n",
       "        text-align: right;\n",
       "    }\n",
       "</style>\n",
       "<table border=\"1\" class=\"dataframe\">\n",
       "  <thead>\n",
       "    <tr style=\"text-align: right;\">\n",
       "      <th></th>\n",
       "      <th>source_text</th>\n",
       "      <th>target_text</th>\n",
       "    </tr>\n",
       "  </thead>\n",
       "  <tbody>\n",
       "    <tr>\n",
       "      <th>0</th>\n",
       "      <td>summarize: Maintains a list of Authentication ...</td>\n",
       "      <td>tstats summariesonly=true min(\"_time\") as \"fi...</td>\n",
       "    </tr>\n",
       "    <tr>\n",
       "      <th>1</th>\n",
       "      <td>summarize: Detects user and computer account d...</td>\n",
       "      <td>from datamodel:\"Change\".\"Account_Management\" ...</td>\n",
       "    </tr>\n",
       "    <tr>\n",
       "      <th>2</th>\n",
       "      <td>summarize: Maintains a list of users that have...</td>\n",
       "      <td>tstats `summariesonly` count from datamodel=A...</td>\n",
       "    </tr>\n",
       "    <tr>\n",
       "      <th>3</th>\n",
       "      <td>summarize: Detects excessive number of failed ...</td>\n",
       "      <td>from datamodel:\"Authentication\".\"Authenticati...</td>\n",
       "    </tr>\n",
       "    <tr>\n",
       "      <th>4</th>\n",
       "      <td>summarize: Detects an excessive number of fail...</td>\n",
       "      <td>tstats `summariesonly` values(Authentication....</td>\n",
       "    </tr>\n",
       "    <tr>\n",
       "      <th>...</th>\n",
       "      <td>...</td>\n",
       "      <td>...</td>\n",
       "    </tr>\n",
       "    <tr>\n",
       "      <th>2029</th>\n",
       "      <td>summarize: Update domain lookup table every 30...</td>\n",
       "      <td>makeresults | `virustotal_domain_list` | map ...</td>\n",
       "    </tr>\n",
       "    <tr>\n",
       "      <th>2030</th>\n",
       "      <td>summarize: Update file lookup table every 30 m...</td>\n",
       "      <td>makeresults | `virustotal_file_list` | map se...</td>\n",
       "    </tr>\n",
       "    <tr>\n",
       "      <th>2031</th>\n",
       "      <td>summarize: Update IP lookup table every 30 min...</td>\n",
       "      <td>makeresults | `virustotal_ip_list` | map sear...</td>\n",
       "    </tr>\n",
       "    <tr>\n",
       "      <th>2032</th>\n",
       "      <td>summarize: Update URL lookup table every 30 mi...</td>\n",
       "      <td>makeresults | `virustotal_url_list` | map sea...</td>\n",
       "    </tr>\n",
       "    <tr>\n",
       "      <th>2033</th>\n",
       "      <td>summarize: Alerts when a host has an abnormall...</td>\n",
       "      <td>tstats `summariesonly` count as web_event_cou...</td>\n",
       "    </tr>\n",
       "  </tbody>\n",
       "</table>\n",
       "<p>2034 rows × 2 columns</p>\n",
       "</div>"
      ],
      "text/plain": [
       "                                            source_text  \\\n",
       "0     summarize: Maintains a list of Authentication ...   \n",
       "1     summarize: Detects user and computer account d...   \n",
       "2     summarize: Maintains a list of users that have...   \n",
       "3     summarize: Detects excessive number of failed ...   \n",
       "4     summarize: Detects an excessive number of fail...   \n",
       "...                                                 ...   \n",
       "2029  summarize: Update domain lookup table every 30...   \n",
       "2030  summarize: Update file lookup table every 30 m...   \n",
       "2031  summarize: Update IP lookup table every 30 min...   \n",
       "2032  summarize: Update URL lookup table every 30 mi...   \n",
       "2033  summarize: Alerts when a host has an abnormall...   \n",
       "\n",
       "                                            target_text  \n",
       "0      tstats summariesonly=true min(\"_time\") as \"fi...  \n",
       "1      from datamodel:\"Change\".\"Account_Management\" ...  \n",
       "2      tstats `summariesonly` count from datamodel=A...  \n",
       "3      from datamodel:\"Authentication\".\"Authenticati...  \n",
       "4      tstats `summariesonly` values(Authentication....  \n",
       "...                                                 ...  \n",
       "2029   makeresults | `virustotal_domain_list` | map ...  \n",
       "2030   makeresults | `virustotal_file_list` | map se...  \n",
       "2031   makeresults | `virustotal_ip_list` | map sear...  \n",
       "2032   makeresults | `virustotal_url_list` | map sea...  \n",
       "2033   tstats `summariesonly` count as web_event_cou...  \n",
       "\n",
       "[2034 rows x 2 columns]"
      ]
     },
     "execution_count": 16,
     "metadata": {},
     "output_type": "execute_result"
    }
   ],
   "source": [
    "# T5 model expects a task related prefix: since it is a summarization task, we will add a prefix \"summarize: \"\n",
    "df['source_text'] = \"summarize: \" + df['source_text']\n",
    "df"
   ]
  },
  {
   "cell_type": "code",
   "execution_count": 17,
   "id": "719bef5f-67e4-4283-9ff9-162400778886",
   "metadata": {},
   "outputs": [
    {
     "data": {
      "text/plain": [
       "((1423, 2), (611, 2))"
      ]
     },
     "execution_count": 17,
     "metadata": {},
     "output_type": "execute_result"
    }
   ],
   "source": [
    "train_df, test_df = train_test_split(df, test_size=0.3)\n",
    "train_df.shape, test_df.shape"
   ]
  },
  {
   "cell_type": "code",
   "execution_count": 18,
   "id": "f2bd8dc2-1ea9-4490-a911-5938db7c339e",
   "metadata": {},
   "outputs": [],
   "source": [
    "from simplet5 import SimpleT5\n",
    "\n",
    "model = SimpleT5()\n",
    "model.from_pretrained(model_type=\"t5\", model_name=\"t5-base\")"
   ]
  },
  {
   "cell_type": "code",
   "execution_count": 10,
   "id": "e8ee16a4-d8fa-41c4-a9c3-a69e8f55faa7",
   "metadata": {},
   "outputs": [
    {
     "name": "stderr",
     "output_type": "stream",
     "text": [
      "GPU available: False, used: False\n",
      "TPU available: False, using: 0 TPU cores\n",
      "IPU available: False, using: 0 IPUs\n",
      "Missing logger folder: /srv/lightning_logs\n",
      "\n",
      "  | Name  | Type                       | Params\n",
      "-----------------------------------------------------\n",
      "0 | model | T5ForConditionalGeneration | 222 M \n",
      "-----------------------------------------------------\n",
      "222 M     Trainable params\n",
      "0         Non-trainable params\n",
      "222 M     Total params\n",
      "891.614   Total estimated model params size (MB)\n"
     ]
    },
    {
     "data": {
      "application/vnd.jupyter.widget-view+json": {
       "model_id": "",
       "version_major": 2,
       "version_minor": 0
      },
      "text/plain": [
       "Validation sanity check: 0it [00:00, ?it/s]"
      ]
     },
     "metadata": {},
     "output_type": "display_data"
    },
    {
     "name": "stderr",
     "output_type": "stream",
     "text": [
      "/dltk/.local/lib/python3.9/site-packages/pytorch_lightning/trainer/data_loading.py:132: UserWarning: The dataloader, val_dataloader 0, does not have many workers which may be a bottleneck. Consider increasing the value of the `num_workers` argument` (try 16 which is the number of cpus on this machine) in the `DataLoader` init to improve performance.\n",
      "  rank_zero_warn(\n",
      "Global seed set to 42\n",
      "/dltk/.local/lib/python3.9/site-packages/pytorch_lightning/trainer/data_loading.py:132: UserWarning: The dataloader, train_dataloader, does not have many workers which may be a bottleneck. Consider increasing the value of the `num_workers` argument` (try 16 which is the number of cpus on this machine) in the `DataLoader` init to improve performance.\n",
      "  rank_zero_warn(\n"
     ]
    },
    {
     "data": {
      "application/vnd.jupyter.widget-view+json": {
       "model_id": "b5eac8182f804a3f86feb9647cf0e0e5",
       "version_major": 2,
       "version_minor": 0
      },
      "text/plain": [
       "Training: 0it [00:00, ?it/s]"
      ]
     },
     "metadata": {},
     "output_type": "display_data"
    },
    {
     "data": {
      "application/vnd.jupyter.widget-view+json": {
       "model_id": "",
       "version_major": 2,
       "version_minor": 0
      },
      "text/plain": [
       "Validating: 0it [00:00, ?it/s]"
      ]
     },
     "metadata": {},
     "output_type": "display_data"
    },
    {
     "data": {
      "application/vnd.jupyter.widget-view+json": {
       "model_id": "",
       "version_major": 2,
       "version_minor": 0
      },
      "text/plain": [
       "Validating: 0it [00:00, ?it/s]"
      ]
     },
     "metadata": {},
     "output_type": "display_data"
    },
    {
     "data": {
      "application/vnd.jupyter.widget-view+json": {
       "model_id": "",
       "version_major": 2,
       "version_minor": 0
      },
      "text/plain": [
       "Validating: 0it [00:00, ?it/s]"
      ]
     },
     "metadata": {},
     "output_type": "display_data"
    },
    {
     "data": {
      "application/vnd.jupyter.widget-view+json": {
       "model_id": "",
       "version_major": 2,
       "version_minor": 0
      },
      "text/plain": [
       "Validating: 0it [00:00, ?it/s]"
      ]
     },
     "metadata": {},
     "output_type": "display_data"
    },
    {
     "data": {
      "application/vnd.jupyter.widget-view+json": {
       "model_id": "",
       "version_major": 2,
       "version_minor": 0
      },
      "text/plain": [
       "Validating: 0it [00:00, ?it/s]"
      ]
     },
     "metadata": {},
     "output_type": "display_data"
    }
   ],
   "source": [
    "model.train(train_df=train_df[:5000],\n",
    "            eval_df=test_df[:100], \n",
    "            source_max_token_len=128, \n",
    "            target_max_token_len=70, \n",
    "            batch_size=8, max_epochs=5, use_gpu=False)"
   ]
  },
  {
   "cell_type": "code",
   "execution_count": 19,
   "id": "7c806b7f-9ca5-42a8-8cf7-85f494536c60",
   "metadata": {},
   "outputs": [
    {
     "name": "stdout",
     "output_type": "stream",
     "text": [
      "simplet5-epoch-0-train-loss-2.2409-val-loss-1.3553\n",
      "simplet5-epoch-1-train-loss-1.4562-val-loss-1.1223\n",
      "simplet5-epoch-2-train-loss-1.2253-val-loss-1.0013\n",
      "simplet5-epoch-3-train-loss-1.0682-val-loss-0.9388\n",
      "simplet5-epoch-4-train-loss-0.9567-val-loss-0.8704\n"
     ]
    }
   ],
   "source": [
    "! ( cd outputs; ls )"
   ]
  },
  {
   "cell_type": "code",
   "execution_count": 20,
   "id": "628f7e2e-6a12-436d-87da-8222efb456c3",
   "metadata": {},
   "outputs": [],
   "source": [
    "# let's load the trained model from the local output folder for inferencing:\n",
    "model.load_model(\"t5\",\"outputs/simplet5-epoch-4-train-loss-0.9567-val-loss-0.8704\", use_gpu=False)"
   ]
  },
  {
   "cell_type": "code",
   "execution_count": 21,
   "id": "d0602478-4537-470f-8bcf-f7b107baa47e",
   "metadata": {},
   "outputs": [
    {
     "data": {
      "text/plain": [
       "['tstats security_content_summariesonly count min(_time) as firstTime max(_time) as lastTime from datamodel=Network_Traffic where All_Traffic.dest_network_transactions.process_name = \"All_']"
      ]
     },
     "execution_count": 21,
     "metadata": {},
     "output_type": "execute_result"
    }
   ],
   "source": [
    "text_to_spl=\"\"\"summarize: Monitor network data for uncommon data flows. Processes utilizing the network that do not normally have network communication or have never been seen before are suspicious.\"\"\"\n",
    "model.predict(text_to_spl)"
   ]
  },
  {
   "cell_type": "code",
   "execution_count": null,
   "id": "286736cf-3407-40ae-a9c2-c836a13e3662",
   "metadata": {},
   "outputs": [],
   "source": []
  }
 ],
 "metadata": {
  "kernelspec": {
   "display_name": "Python 3 (ipykernel)",
   "language": "python",
   "name": "python3"
  },
  "language_info": {
   "codemirror_mode": {
    "name": "ipython",
    "version": 3
   },
   "file_extension": ".py",
   "mimetype": "text/x-python",
   "name": "python",
   "nbconvert_exporter": "python",
   "pygments_lexer": "ipython3",
   "version": "3.9.19"
  }
 },
 "nbformat": 4,
 "nbformat_minor": 5
}
